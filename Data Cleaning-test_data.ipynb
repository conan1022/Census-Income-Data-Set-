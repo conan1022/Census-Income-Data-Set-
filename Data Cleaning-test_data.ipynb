{
 "cells": [
  {
   "cell_type": "markdown",
   "metadata": {},
   "source": [
    "## Set-up"
   ]
  },
  {
   "cell_type": "code",
   "execution_count": 43,
   "metadata": {},
   "outputs": [],
   "source": [
    "import pandas as pd\n",
    "import numpy as np\n",
    "import seaborn as sns\n",
    "import matplotlib as plt\n"
   ]
  },
  {
   "cell_type": "code",
   "execution_count": 44,
   "metadata": {},
   "outputs": [],
   "source": [
    "category = [\n",
    "    'age',\n",
    "    'workclass',\n",
    "    'fnlwgt',\n",
    "    'education',\n",
    "    'education-num',\n",
    "    'marital-status',\n",
    "    'occupation',\n",
    "    'relationship',\n",
    "    'race',\n",
    "    'sex',\n",
    "    'capital-gain',\n",
    "    'capital-loss',\n",
    "    'hours-per-week',\n",
    "    'native-country',\n",
    "    'income'\n",
    "]"
   ]
  },
  {
   "cell_type": "code",
   "execution_count": 45,
   "metadata": {},
   "outputs": [],
   "source": [
    "test_data = pd.read_csv('adult_test.csv', names=category);\n",
    "test_data;"
   ]
  },
  {
   "cell_type": "markdown",
   "metadata": {},
   "source": [
    "## Imputation"
   ]
  },
  {
   "cell_type": "code",
   "execution_count": 46,
   "metadata": {},
   "outputs": [],
   "source": [
    "# deal with ?\n",
    "# in workclass, occupation, native-country\n",
    "\n",
    "# workclass: replace by most frequent workclass -- Private\n",
    "test_data['workclass'] = test_data['workclass'].replace(' ?', ' Private')\n",
    "\n",
    "# occupation: replace by most frequent occupation -- Prof-specialty\n",
    "test_data['occupation'] = test_data['occupation'].replace(' ?', ' Prof-specialty')\n",
    "\n",
    "# occupation: replace by most frequent native-country -- United-States\n",
    "test_data['native-country'] = test_data['native-country'].replace(' ?', ' United-States')\n",
    "\n"
   ]
  },
  {
   "cell_type": "markdown",
   "metadata": {},
   "source": [
    "## Feature Engineering"
   ]
  },
  {
   "cell_type": "code",
   "execution_count": 47,
   "metadata": {},
   "outputs": [
    {
     "data": {
      "text/plain": [
       "age                int64\n",
       "workclass         object\n",
       "fnlwgt             int64\n",
       "education         object\n",
       "education-num      int64\n",
       "marital-status    object\n",
       "occupation        object\n",
       "relationship      object\n",
       "race              object\n",
       "sex               object\n",
       "capital-gain       int64\n",
       "capital-loss       int64\n",
       "hours-per-week     int64\n",
       "native-country    object\n",
       "income            object\n",
       "dtype: object"
      ]
     },
     "execution_count": 47,
     "metadata": {},
     "output_type": "execute_result"
    }
   ],
   "source": [
    "test_data.dtypes\n",
    "# The code below will transfer all the string into int to smoothen the processing"
   ]
  },
  {
   "cell_type": "code",
   "execution_count": 48,
   "metadata": {},
   "outputs": [
    {
     "data": {
      "text/plain": [
       "2    4292\n",
       "1    4008\n",
       "3    3420\n",
       "4    2074\n",
       "0    1213\n",
       "5     946\n",
       "6     279\n",
       "7      49\n",
       "Name: age, dtype: int64"
      ]
     },
     "execution_count": 48,
     "metadata": {},
     "output_type": "execute_result"
    }
   ],
   "source": [
    "# age group\n",
    "\n",
    "''' \n",
    "Reference:\n",
    "<21 => 0\n",
    "21-30 => 1\n",
    "31-40 => 2\n",
    "41-50 => 3\n",
    "51-60 => 4\n",
    "61-70 => 5\n",
    "71-80 => 6\n",
    "81-90 => 7\n",
    "'''\n",
    "\n",
    "test_data['age'] = test_data['age'].astype(int)\n",
    "test_data['age'] = test_data['age'].mask(test_data['age'] < 21, 0)\n",
    "test_data['age'] = test_data['age'].mask((test_data['age'] >= 21) & (test_data['age'] < 31), 1)\n",
    "test_data['age'] = test_data['age'].mask((test_data['age'] >= 31) & (test_data['age'] < 41), 2)\n",
    "test_data['age'] = test_data['age'].mask((test_data['age'] >= 41) & (test_data['age'] < 51), 3)\n",
    "test_data['age'] = test_data['age'].mask((test_data['age'] >= 51) & (test_data['age'] < 61), 4)\n",
    "test_data['age'] = test_data['age'].mask((test_data['age'] >= 61) & (test_data['age'] < 71), 5)\n",
    "test_data['age'] = test_data['age'].mask((test_data['age'] >= 71) & (test_data['age'] < 81), 6)\n",
    "test_data['age'] = test_data['age'].mask((test_data['age'] >= 81), 7)\n",
    "\n",
    "test_data['age'].value_counts()"
   ]
  },
  {
   "cell_type": "code",
   "execution_count": 49,
   "metadata": {},
   "outputs": [
    {
     "data": {
      "text/plain": [
       "7    12173\n",
       "3     1321\n",
       "6     1043\n",
       "5      683\n",
       "2      579\n",
       "4      472\n",
       "0        7\n",
       "1        3\n",
       "Name: workclass, dtype: int64"
      ]
     },
     "execution_count": 49,
     "metadata": {},
     "output_type": "execute_result"
    }
   ],
   "source": [
    "# workclass\n",
    "''' \n",
    "Reference:\n",
    "Without pay => 0\n",
    "Never-worked => 1\n",
    "Self-emp-inc => 2\n",
    "Self-emp-not-inc => 3\n",
    "Federal-gov => 4\n",
    "State-gov => 5\n",
    "Local-gov => 6\n",
    "Private => 7\n",
    "'''\n",
    "test_data['workclass'] = test_data['workclass'].replace(' Without-pay', 0)\n",
    "test_data['workclass'] = test_data['workclass'].replace(' Never-worked', 1)\n",
    "test_data['workclass'] = test_data['workclass'].replace(' Self-emp-inc', 2)\n",
    "test_data['workclass'] = test_data['workclass'].replace(' Self-emp-not-inc', 3)\n",
    "test_data['workclass'] = test_data['workclass'].replace(' Federal-gov', 4)\n",
    "test_data['workclass'] = test_data['workclass'].replace(' State-gov', 5)\n",
    "test_data['workclass'] = test_data['workclass'].replace(' Local-gov', 6)\n",
    "test_data['workclass'] = test_data['workclass'].replace(' Private', 7)\n",
    "\n",
    "test_data['workclass'].value_counts()"
   ]
  },
  {
   "cell_type": "code",
   "execution_count": 50,
   "metadata": {},
   "outputs": [
    {
     "data": {
      "text/plain": [
       "1    5283\n",
       "2    4800\n",
       "3    2670\n",
       "0    2155\n",
       "4    1373\n",
       "Name: education, dtype: int64"
      ]
     },
     "execution_count": 50,
     "metadata": {},
     "output_type": "execute_result"
    }
   ],
   "source": [
    "# education\n",
    "''' \n",
    "education and education-num are same thing so just combine them together\n",
    "\n",
    "Reference:\n",
    "Pre-school, 1st - 12th => Not finished high school => 0\n",
    "HS-grad => finished high school => 1 \n",
    "Asso-acdm, Asso-voc, Some-college => Asso & not finished UG => 2\n",
    "Bachelors => 3\n",
    "Masters, Doctorate, Prof-school => Post-grad => 4\n",
    "'''\n",
    "test_data['education-num'] = test_data['education-num'].replace([1, 2, 3, 4, 5, 6, 7, 8], 0)\n",
    "test_data['education-num'] = test_data['education-num'].replace(9, 1)\n",
    "test_data['education-num'] = test_data['education-num'].replace([10, 11, 12], 2)\n",
    "test_data['education-num'] = test_data['education-num'].replace(13, 3)\n",
    "test_data['education-num'] = test_data['education-num'].replace([14, 15, 16], 4)\n",
    "\n",
    "test_data = test_data.drop(columns = ['education'])\n",
    "test_data = test_data.rename(columns={'education-num':'education'})\n",
    "\n",
    "test_data['education'].value_counts()"
   ]
  },
  {
   "cell_type": "code",
   "execution_count": 51,
   "metadata": {},
   "outputs": [
    {
     "data": {
      "text/plain": [
       "5     2998\n",
       "4     2020\n",
       "1     2013\n",
       "3     1854\n",
       "8     1841\n",
       "2     1628\n",
       "7     1020\n",
       "10     758\n",
       "6      702\n",
       "0      518\n",
       "9      496\n",
       "12     334\n",
       "11      93\n",
       "13       6\n",
       "Name: occupation, dtype: int64"
      ]
     },
     "execution_count": 51,
     "metadata": {},
     "output_type": "execute_result"
    }
   ],
   "source": [
    "# occupation\n",
    "''' \n",
    "Reference:\n",
    "'Tech-support', 'Craft-repair', 'Other-service', 'Sales', 'Exec-managerial', 'Prof-specialty', 'Handlers-cleaners', 'Machine-op-inspct', 'Adm-clerical', 'Farming-fishing', 'Transport-moving', 'Priv-house-serv', 'Protective-serv', 'Armed-Forces'\n",
    "= [0, 1, 2, 3, 4, 5, 6, 7, 8, 9, 10, 11, 12, 13]\n",
    "'''\n",
    "test_data['occupation'] = test_data['occupation'].replace([' Tech-support', ' Craft-repair', ' Other-service', ' Sales', ' Exec-managerial', ' Prof-specialty', ' Handlers-cleaners', ' Machine-op-inspct', ' Adm-clerical', ' Farming-fishing', ' Transport-moving', ' Priv-house-serv', ' Protective-serv', ' Armed-Forces'], range(14))\n",
    "\n",
    "\n",
    "\n",
    "test_data['occupation'].value_counts()\n",
    "\n"
   ]
  },
  {
   "cell_type": "code",
   "execution_count": 52,
   "metadata": {},
   "outputs": [
    {
     "data": {
      "text/plain": [
       "2    6523\n",
       "3    4278\n",
       "1    2513\n",
       "5    1679\n",
       "0     763\n",
       "4     525\n",
       "Name: relationship, dtype: int64"
      ]
     },
     "execution_count": 52,
     "metadata": {},
     "output_type": "execute_result"
    }
   ],
   "source": [
    "# relationship\n",
    "''' \n",
    "Reference:\n",
    "'Wife', 'Own-child', 'Husband', 'Not-in-family', 'Other-relative', 'Unmarried'\n",
    "= [0, 1, 2, 3, 4, 5]\n",
    "'''\n",
    "test_data['relationship'] = test_data['relationship'].replace([' Wife', ' Own-child', ' Husband', ' Not-in-family', ' Other-relative', ' Unmarried'], range(6))\n",
    "\n",
    "test_data['relationship'].value_counts()"
   ]
  },
  {
   "cell_type": "code",
   "execution_count": 53,
   "metadata": {},
   "outputs": [
    {
     "data": {
      "text/plain": [
       "0    13946\n",
       "4     1561\n",
       "1      480\n",
       "2      159\n",
       "3      135\n",
       "Name: race, dtype: int64"
      ]
     },
     "execution_count": 53,
     "metadata": {},
     "output_type": "execute_result"
    }
   ],
   "source": [
    "# race\n",
    "''' \n",
    "Reference:\n",
    "'White', 'Asian-Pac-Islander', 'Amer-Indian-Eskimo', 'Other', 'Black'Have capital gain => 1\n",
    "= [0, 1, 2, 3, 4]\n",
    "'''\n",
    "\n",
    "test_data['race'] = test_data['race'].replace([' White', ' Asian-Pac-Islander', ' Amer-Indian-Eskimo', ' Other', ' Black'], range(5))\n",
    "\n",
    "test_data['race'].value_counts()\n"
   ]
  },
  {
   "cell_type": "code",
   "execution_count": 54,
   "metadata": {},
   "outputs": [
    {
     "data": {
      "text/plain": [
       "1    10860\n",
       "0     5421\n",
       "Name: sex, dtype: int64"
      ]
     },
     "execution_count": 54,
     "metadata": {},
     "output_type": "execute_result"
    }
   ],
   "source": [
    "# sex\n",
    "''' \n",
    "Reference:\n",
    "Female, Male\n",
    "= [0, 1]\n",
    "'''\n",
    "\n",
    "test_data['sex'] = test_data['sex'].replace([' Female', ' Male'], range(2))\n",
    "\n",
    "test_data['sex'].value_counts()\n"
   ]
  },
  {
   "cell_type": "code",
   "execution_count": 55,
   "metadata": {},
   "outputs": [
    {
     "data": {
      "text/plain": [
       "0    14958\n",
       "1     1323\n",
       "Name: capital-gain, dtype: int64"
      ]
     },
     "execution_count": 55,
     "metadata": {},
     "output_type": "execute_result"
    }
   ],
   "source": [
    "# capital-gain\n",
    "''' \n",
    "Reference:\n",
    "No capital gain => 0\n",
    "Have capital gain => 1\n",
    "'''\n",
    "#test_data['capital-gain'] = test_data['capital-gain'].astype(int)\n",
    "test_data['capital-gain'] = test_data['capital-gain'].mask(test_data['capital-gain'] == 0, 0)\n",
    "test_data['capital-gain'] = test_data['capital-gain'].mask(test_data['capital-gain'] > 0, 1)\n",
    "\n",
    "test_data['capital-gain'].value_counts()"
   ]
  },
  {
   "cell_type": "code",
   "execution_count": 56,
   "metadata": {},
   "outputs": [
    {
     "data": {
      "text/plain": [
       "0    15518\n",
       "1      763\n",
       "Name: capital-loss, dtype: int64"
      ]
     },
     "execution_count": 56,
     "metadata": {},
     "output_type": "execute_result"
    }
   ],
   "source": [
    "# capital-loss\n",
    "''' \n",
    "Reference:\n",
    "No capital loss => 0\n",
    "Have capital loss => 1\n",
    "'''\n",
    "test_data['capital-loss'] = test_data['capital-loss'].astype(int)\n",
    "test_data['capital-loss'] = test_data['capital-loss'].mask(test_data['capital-loss'] == 0, 0)\n",
    "test_data['capital-loss'] = test_data['capital-loss'].mask(test_data['capital-loss'] > 0, 1)\n",
    "\n",
    "test_data['capital-loss'].value_counts()\n",
    "\n"
   ]
  },
  {
   "cell_type": "code",
   "execution_count": 57,
   "metadata": {},
   "outputs": [
    {
     "data": {
      "text/plain": [
       "1    9985\n",
       "2    4205\n",
       "0    1525\n",
       "3     566\n",
       "Name: hours-per-week, dtype: int64"
      ]
     },
     "execution_count": 57,
     "metadata": {},
     "output_type": "execute_result"
    }
   ],
   "source": [
    "# hours-per-week\n",
    "''' \n",
    "Reference:\n",
    "0-20 => 0\n",
    "21-40 => 1\n",
    "41-60 => 2\n",
    "61+ => 3\n",
    "'''\n",
    "test_data['hours-per-week'] = test_data['hours-per-week'].astype(int)\n",
    "test_data['hours-per-week'] = test_data['hours-per-week'].mask(test_data['hours-per-week'] < 21, 0)\n",
    "test_data['hours-per-week'] = test_data['hours-per-week'].mask((test_data['hours-per-week'] >= 21) & (test_data['hours-per-week'] < 41), 1)\n",
    "test_data['hours-per-week'] = test_data['hours-per-week'].mask((test_data['hours-per-week'] >= 41) & (test_data['hours-per-week'] < 61), 2)\n",
    "test_data['hours-per-week'] = test_data['hours-per-week'].mask(test_data['hours-per-week'] >= 61, 3)\n",
    "\n",
    "test_data['hours-per-week'].value_counts()\n"
   ]
  },
  {
   "cell_type": "code",
   "execution_count": 58,
   "metadata": {},
   "outputs": [
    {
     "data": {
      "text/plain": [
       "0    14936\n",
       "1     1345\n",
       "Name: native-country, dtype: int64"
      ]
     },
     "execution_count": 58,
     "metadata": {},
     "output_type": "execute_result"
    }
   ],
   "source": [
    "# native-country\n",
    "''' \n",
    "Reference:\n",
    "United-State => 0\n",
    "Any other non-US => 1\n",
    "'''\n",
    "test_data['native-country'] = test_data['native-country'].mask(test_data['native-country']!=' United-States', 1)\n",
    "test_data['native-country'] = test_data['native-country'].mask(test_data['native-country']==' United-States', 0)\n",
    "\n",
    "test_data['native-country'].value_counts()"
   ]
  },
  {
   "cell_type": "code",
   "execution_count": 59,
   "metadata": {},
   "outputs": [
    {
     "data": {
      "text/plain": [
       "1    7417\n",
       "0    5434\n",
       "2    3430\n",
       "Name: marital-status, dtype: int64"
      ]
     },
     "execution_count": 59,
     "metadata": {},
     "output_type": "execute_result"
    }
   ],
   "source": [
    "# marital-status\n",
    "''' \n",
    "Reference:\n",
    "Never-married => 0\n",
    "Married AF or Civ => 1\n",
    "Married-spouse-absent, divorced, seperated, widowed => Broken relationship => 2\n",
    "'''\n",
    "test_data['marital-status'] = test_data['marital-status'].replace(' Never-married', 0)\n",
    "test_data['marital-status'] = test_data['marital-status'].replace([' Married-AF-spouse', ' Married-civ-spouse'], 1)\n",
    "test_data['marital-status'] = test_data['marital-status'].replace([' Married-spouse-absent', ' Divorced', ' Separated', ' Widowed'], 2)\n",
    "\n",
    "test_data['marital-status'].value_counts()\n",
    "\n"
   ]
  },
  {
   "cell_type": "code",
   "execution_count": 60,
   "metadata": {},
   "outputs": [
    {
     "data": {
      "text/plain": [
       "0    12435\n",
       "1     3846\n",
       "Name: income, dtype: int64"
      ]
     },
     "execution_count": 60,
     "metadata": {},
     "output_type": "execute_result"
    }
   ],
   "source": [
    "# income\n",
    "''' \n",
    "Reference:\n",
    "<=50k => 0\n",
    ">50k => 1\n",
    "'''\n",
    "\n",
    "test_data['income'] = test_data['income'].replace(' <=50K.', 0)\n",
    "test_data['income'] = test_data['income'].replace(' >50K.', 1)\n",
    "\n",
    "\n",
    "test_data['income'].value_counts()\n"
   ]
  },
  {
   "cell_type": "code",
   "execution_count": 61,
   "metadata": {},
   "outputs": [
    {
     "data": {
      "text/plain": [
       "<AxesSubplot:>"
      ]
     },
     "execution_count": 61,
     "metadata": {},
     "output_type": "execute_result"
    },
    {
     "data": {
      "image/png": "[encoded data removed]",
      "text/plain": [
       "<Figure size 432x288 with 2 Axes>"
      ]
     },
     "metadata": {
      "needs_background": "light"
     },
     "output_type": "display_data"
    }
   ],
   "source": [
    "sns.heatmap(test_data.corr())"
   ]
  },
  {
   "cell_type": "code",
   "execution_count": 62,
   "metadata": {
    "scrolled": true
   },
   "outputs": [
    {
     "data": {
      "text/html": [
       "<div>\n",
       "<style scoped>\n",
       "    .dataframe tbody tr th:only-of-type {\n",
       "        vertical-align: middle;\n",
       "    }\n",
       "\n",
       "    .dataframe tbody tr th {\n",
       "        vertical-align: top;\n",
       "    }\n",
       "\n",
       "    .dataframe thead th {\n",
       "        text-align: right;\n",
       "    }\n",
       "</style>\n",
       "<table border=\"1\" class=\"dataframe\">\n",
       "  <thead>\n",
       "    <tr style=\"text-align: right;\">\n",
       "      <th></th>\n",
       "      <th>age</th>\n",
       "      <th>workclass</th>\n",
       "      <th>fnlwgt</th>\n",
       "      <th>education</th>\n",
       "      <th>marital-status</th>\n",
       "      <th>occupation</th>\n",
       "      <th>relationship</th>\n",
       "      <th>race</th>\n",
       "      <th>sex</th>\n",
       "      <th>capital-gain</th>\n",
       "      <th>capital-loss</th>\n",
       "      <th>hours-per-week</th>\n",
       "      <th>native-country</th>\n",
       "      <th>income</th>\n",
       "    </tr>\n",
       "  </thead>\n",
       "  <tbody>\n",
       "    <tr>\n",
       "      <th>0</th>\n",
       "      <td>1</td>\n",
       "      <td>7</td>\n",
       "      <td>226802</td>\n",
       "      <td>0</td>\n",
       "      <td>0</td>\n",
       "      <td>7</td>\n",
       "      <td>1</td>\n",
       "      <td>4</td>\n",
       "      <td>1</td>\n",
       "      <td>0</td>\n",
       "      <td>0</td>\n",
       "      <td>1</td>\n",
       "      <td>0</td>\n",
       "      <td>0</td>\n",
       "    </tr>\n",
       "    <tr>\n",
       "      <th>1</th>\n",
       "      <td>2</td>\n",
       "      <td>7</td>\n",
       "      <td>89814</td>\n",
       "      <td>1</td>\n",
       "      <td>1</td>\n",
       "      <td>9</td>\n",
       "      <td>2</td>\n",
       "      <td>0</td>\n",
       "      <td>1</td>\n",
       "      <td>0</td>\n",
       "      <td>0</td>\n",
       "      <td>2</td>\n",
       "      <td>0</td>\n",
       "      <td>0</td>\n",
       "    </tr>\n",
       "    <tr>\n",
       "      <th>2</th>\n",
       "      <td>1</td>\n",
       "      <td>6</td>\n",
       "      <td>336951</td>\n",
       "      <td>2</td>\n",
       "      <td>1</td>\n",
       "      <td>12</td>\n",
       "      <td>2</td>\n",
       "      <td>0</td>\n",
       "      <td>1</td>\n",
       "      <td>0</td>\n",
       "      <td>0</td>\n",
       "      <td>1</td>\n",
       "      <td>0</td>\n",
       "      <td>1</td>\n",
       "    </tr>\n",
       "    <tr>\n",
       "      <th>3</th>\n",
       "      <td>3</td>\n",
       "      <td>7</td>\n",
       "      <td>160323</td>\n",
       "      <td>2</td>\n",
       "      <td>1</td>\n",
       "      <td>7</td>\n",
       "      <td>2</td>\n",
       "      <td>4</td>\n",
       "      <td>1</td>\n",
       "      <td>1</td>\n",
       "      <td>0</td>\n",
       "      <td>1</td>\n",
       "      <td>0</td>\n",
       "      <td>1</td>\n",
       "    </tr>\n",
       "    <tr>\n",
       "      <th>4</th>\n",
       "      <td>0</td>\n",
       "      <td>7</td>\n",
       "      <td>103497</td>\n",
       "      <td>2</td>\n",
       "      <td>0</td>\n",
       "      <td>5</td>\n",
       "      <td>1</td>\n",
       "      <td>0</td>\n",
       "      <td>0</td>\n",
       "      <td>0</td>\n",
       "      <td>0</td>\n",
       "      <td>1</td>\n",
       "      <td>0</td>\n",
       "      <td>0</td>\n",
       "    </tr>\n",
       "    <tr>\n",
       "      <th>...</th>\n",
       "      <td>...</td>\n",
       "      <td>...</td>\n",
       "      <td>...</td>\n",
       "      <td>...</td>\n",
       "      <td>...</td>\n",
       "      <td>...</td>\n",
       "      <td>...</td>\n",
       "      <td>...</td>\n",
       "      <td>...</td>\n",
       "      <td>...</td>\n",
       "      <td>...</td>\n",
       "      <td>...</td>\n",
       "      <td>...</td>\n",
       "      <td>...</td>\n",
       "    </tr>\n",
       "    <tr>\n",
       "      <th>16276</th>\n",
       "      <td>2</td>\n",
       "      <td>7</td>\n",
       "      <td>215419</td>\n",
       "      <td>3</td>\n",
       "      <td>2</td>\n",
       "      <td>5</td>\n",
       "      <td>3</td>\n",
       "      <td>0</td>\n",
       "      <td>0</td>\n",
       "      <td>0</td>\n",
       "      <td>0</td>\n",
       "      <td>1</td>\n",
       "      <td>0</td>\n",
       "      <td>0</td>\n",
       "    </tr>\n",
       "    <tr>\n",
       "      <th>16277</th>\n",
       "      <td>5</td>\n",
       "      <td>7</td>\n",
       "      <td>321403</td>\n",
       "      <td>1</td>\n",
       "      <td>2</td>\n",
       "      <td>5</td>\n",
       "      <td>4</td>\n",
       "      <td>4</td>\n",
       "      <td>1</td>\n",
       "      <td>0</td>\n",
       "      <td>0</td>\n",
       "      <td>1</td>\n",
       "      <td>0</td>\n",
       "      <td>0</td>\n",
       "    </tr>\n",
       "    <tr>\n",
       "      <th>16278</th>\n",
       "      <td>2</td>\n",
       "      <td>7</td>\n",
       "      <td>374983</td>\n",
       "      <td>3</td>\n",
       "      <td>1</td>\n",
       "      <td>5</td>\n",
       "      <td>2</td>\n",
       "      <td>0</td>\n",
       "      <td>1</td>\n",
       "      <td>0</td>\n",
       "      <td>0</td>\n",
       "      <td>2</td>\n",
       "      <td>0</td>\n",
       "      <td>0</td>\n",
       "    </tr>\n",
       "    <tr>\n",
       "      <th>16279</th>\n",
       "      <td>3</td>\n",
       "      <td>7</td>\n",
       "      <td>83891</td>\n",
       "      <td>3</td>\n",
       "      <td>2</td>\n",
       "      <td>8</td>\n",
       "      <td>1</td>\n",
       "      <td>1</td>\n",
       "      <td>1</td>\n",
       "      <td>1</td>\n",
       "      <td>0</td>\n",
       "      <td>1</td>\n",
       "      <td>0</td>\n",
       "      <td>0</td>\n",
       "    </tr>\n",
       "    <tr>\n",
       "      <th>16280</th>\n",
       "      <td>2</td>\n",
       "      <td>2</td>\n",
       "      <td>182148</td>\n",
       "      <td>3</td>\n",
       "      <td>1</td>\n",
       "      <td>4</td>\n",
       "      <td>2</td>\n",
       "      <td>0</td>\n",
       "      <td>1</td>\n",
       "      <td>0</td>\n",
       "      <td>0</td>\n",
       "      <td>2</td>\n",
       "      <td>0</td>\n",
       "      <td>1</td>\n",
       "    </tr>\n",
       "  </tbody>\n",
       "</table>\n",
       "<p>16281 rows × 14 columns</p>\n",
       "</div>"
      ],
      "text/plain": [
       "       age  workclass  fnlwgt  education  marital-status  occupation  \\\n",
       "0        1          7  226802          0               0           7   \n",
       "1        2          7   89814          1               1           9   \n",
       "2        1          6  336951          2               1          12   \n",
       "3        3          7  160323          2               1           7   \n",
       "4        0          7  103497          2               0           5   \n",
       "...    ...        ...     ...        ...             ...         ...   \n",
       "16276    2          7  215419          3               2           5   \n",
       "16277    5          7  321403          1               2           5   \n",
       "16278    2          7  374983          3               1           5   \n",
       "16279    3          7   83891          3               2           8   \n",
       "16280    2          2  182148          3               1           4   \n",
       "\n",
       "       relationship  race  sex  capital-gain  capital-loss  hours-per-week  \\\n",
       "0                 1     4    1             0             0               1   \n",
       "1                 2     0    1             0             0               2   \n",
       "2                 2     0    1             0             0               1   \n",
       "3                 2     4    1             1             0               1   \n",
       "4                 1     0    0             0             0               1   \n",
       "...             ...   ...  ...           ...           ...             ...   \n",
       "16276             3     0    0             0             0               1   \n",
       "16277             4     4    1             0             0               1   \n",
       "16278             2     0    1             0             0               2   \n",
       "16279             1     1    1             1             0               1   \n",
       "16280             2     0    1             0             0               2   \n",
       "\n",
       "      native-country  income  \n",
       "0                  0       0  \n",
       "1                  0       0  \n",
       "2                  0       1  \n",
       "3                  0       1  \n",
       "4                  0       0  \n",
       "...              ...     ...  \n",
       "16276              0       0  \n",
       "16277              0       0  \n",
       "16278              0       0  \n",
       "16279              0       0  \n",
       "16280              0       1  \n",
       "\n",
       "[16281 rows x 14 columns]"
      ]
     },
     "execution_count": 62,
     "metadata": {},
     "output_type": "execute_result"
    }
   ],
   "source": [
    "test_data"
   ]
  },
  {
   "cell_type": "code",
   "execution_count": 63,
   "metadata": {},
   "outputs": [],
   "source": [
    "test_data.to_csv('clean_test_data.csv', index=False)"
   ]
  }
 ],
 "metadata": {
  "kernelspec": {
   "display_name": "Python 3",
   "language": "python",
   "name": "python3"
  },
  "language_info": {
   "codemirror_mode": {
    "name": "ipython",
    "version": 3
   },
   "file_extension": ".py",
   "mimetype": "text/x-python",
   "name": "python",
   "nbconvert_exporter": "python",
   "pygments_lexer": "ipython3",
   "version": "3.8.5"
  }
 },
 "nbformat": 4,
 "nbformat_minor": 4
}
