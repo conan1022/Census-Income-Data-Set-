{
 "cells": [
  {
   "cell_type": "markdown",
   "metadata": {},
   "source": [
    "## Set-up"
   ]
  },
  {
   "cell_type": "code",
   "execution_count": 59,
   "metadata": {},
   "outputs": [],
   "source": [
    "import pandas as pd\n",
    "import numpy as np\n",
    "import seaborn as sns\n",
    "import matplotlib as plt\n"
   ]
  },
  {
   "cell_type": "code",
   "execution_count": 60,
   "metadata": {},
   "outputs": [],
   "source": [
    "category = [\n",
    "    'age',\n",
    "    'workclass',\n",
    "    'fnlwgt',\n",
    "    'education',\n",
    "    'education-num',\n",
    "    'marital-status',\n",
    "    'occupation',\n",
    "    'relationship',\n",
    "    'race',\n",
    "    'sex',\n",
    "    'capital-gain',\n",
    "    'capital-loss',\n",
    "    'hours-per-week',\n",
    "    'native-country',\n",
    "    'income'\n",
    "]"
   ]
  },
  {
   "cell_type": "code",
   "execution_count": 61,
   "metadata": {},
   "outputs": [],
   "source": [
    "train_data = pd.read_csv('adult_data.csv', names=category);\n",
    "train_data;"
   ]
  },
  {
   "cell_type": "markdown",
   "metadata": {},
   "source": [
    "## Imputation"
   ]
  },
  {
   "cell_type": "code",
   "execution_count": 62,
   "metadata": {},
   "outputs": [],
   "source": [
    "# deal with ?\n",
    "# in workclass, occupation, native-country\n",
    "\n",
    "# workclass: replace by most frequent workclass -- Private\n",
    "train_data['workclass'] = train_data['workclass'].replace(' ?', ' Private')\n",
    "\n",
    "# occupation: replace by most frequent occupation -- Prof-specialty\n",
    "train_data['occupation'] = train_data['occupation'].replace(' ?', ' Prof-specialty')\n",
    "\n",
    "# occupation: replace by most frequent native-country -- United-States\n",
    "train_data['native-country'] = train_data['native-country'].replace(' ?', ' United-States')\n",
    "\n"
   ]
  },
  {
   "cell_type": "markdown",
   "metadata": {},
   "source": [
    "## Feature Engineering"
   ]
  },
  {
   "cell_type": "code",
   "execution_count": 54,
   "metadata": {},
   "outputs": [
    {
     "data": {
      "text/plain": [
       "age               int64\n",
       "workclass         int64\n",
       "fnlwgt            int64\n",
       "education         int64\n",
       "marital-status    int64\n",
       "occupation        int64\n",
       "relationship      int64\n",
       "race              int64\n",
       "sex               int64\n",
       "capital-gain      int64\n",
       "capital-loss      int64\n",
       "hours-per-week    int64\n",
       "native-country    int64\n",
       "income            int64\n",
       "dtype: object"
      ]
     },
     "execution_count": 54,
     "metadata": {},
     "output_type": "execute_result"
    }
   ],
   "source": [
    "train_data.dtypes\n",
    "# The code below will transfer all the string into int to smoothen the processing"
   ]
  },
  {
   "cell_type": "code",
   "execution_count": 63,
   "metadata": {},
   "outputs": [
    {
     "data": {
      "text/plain": [
       "2    8546\n",
       "1    8162\n",
       "3    6983\n",
       "4    4128\n",
       "0    2410\n",
       "5    1792\n",
       "6     441\n",
       "7      99\n",
       "Name: age, dtype: int64"
      ]
     },
     "execution_count": 63,
     "metadata": {},
     "output_type": "execute_result"
    }
   ],
   "source": [
    "# age group\n",
    "\n",
    "''' \n",
    "Reference:\n",
    "<21 => 0\n",
    "21-30 => 1\n",
    "31-40 => 2\n",
    "41-50 => 3\n",
    "51-60 => 4\n",
    "61-70 => 5\n",
    "71-80 => 6\n",
    "81-90 => 7\n",
    "'''\n",
    "\n",
    "train_data['age'] = train_data['age'].astype(int)\n",
    "train_data['age'] = train_data['age'].mask(train_data['age'] < 21, 0)\n",
    "train_data['age'] = train_data['age'].mask((train_data['age'] >= 21) & (train_data['age'] < 31), 1)\n",
    "train_data['age'] = train_data['age'].mask((train_data['age'] >= 31) & (train_data['age'] < 41), 2)\n",
    "train_data['age'] = train_data['age'].mask((train_data['age'] >= 41) & (train_data['age'] < 51), 3)\n",
    "train_data['age'] = train_data['age'].mask((train_data['age'] >= 51) & (train_data['age'] < 61), 4)\n",
    "train_data['age'] = train_data['age'].mask((train_data['age'] >= 61) & (train_data['age'] < 71), 5)\n",
    "train_data['age'] = train_data['age'].mask((train_data['age'] >= 71) & (train_data['age'] < 81), 6)\n",
    "train_data['age'] = train_data['age'].mask((train_data['age'] >= 81), 7)\n",
    "\n",
    "train_data['age'].value_counts()"
   ]
  },
  {
   "cell_type": "code",
   "execution_count": 64,
   "metadata": {},
   "outputs": [
    {
     "data": {
      "text/plain": [
       "7    24532\n",
       "3     2541\n",
       "6     2093\n",
       "5     1298\n",
       "2     1116\n",
       "4      960\n",
       "0       14\n",
       "1        7\n",
       "Name: workclass, dtype: int64"
      ]
     },
     "execution_count": 64,
     "metadata": {},
     "output_type": "execute_result"
    }
   ],
   "source": [
    "# workclass\n",
    "''' \n",
    "Reference:\n",
    "Without pay => 0\n",
    "Never-worked => 1\n",
    "Self-emp-inc => 2\n",
    "Self-emp-not-inc => 3\n",
    "Federal-gov => 4\n",
    "State-gov => 5\n",
    "Local-gov => 6\n",
    "Private => 7\n",
    "'''\n",
    "train_data['workclass'] = train_data['workclass'].replace(' Without-pay', 0)\n",
    "train_data['workclass'] = train_data['workclass'].replace(' Never-worked', 1)\n",
    "train_data['workclass'] = train_data['workclass'].replace(' Self-emp-inc', 2)\n",
    "train_data['workclass'] = train_data['workclass'].replace(' Self-emp-not-inc', 3)\n",
    "train_data['workclass'] = train_data['workclass'].replace(' Federal-gov', 4)\n",
    "train_data['workclass'] = train_data['workclass'].replace(' State-gov', 5)\n",
    "train_data['workclass'] = train_data['workclass'].replace(' Local-gov', 6)\n",
    "train_data['workclass'] = train_data['workclass'].replace(' Private', 7)\n",
    "\n",
    "train_data['workclass'].value_counts()"
   ]
  },
  {
   "cell_type": "code",
   "execution_count": 65,
   "metadata": {},
   "outputs": [
    {
     "data": {
      "text/plain": [
       "1    10501\n",
       "2     9740\n",
       "3     5355\n",
       "0     4253\n",
       "4     2712\n",
       "Name: education, dtype: int64"
      ]
     },
     "execution_count": 65,
     "metadata": {},
     "output_type": "execute_result"
    }
   ],
   "source": [
    "# education\n",
    "''' \n",
    "education and education-num are same thing so just combine them together\n",
    "\n",
    "Reference:\n",
    "Pre-school, 1st - 12th => Not finished high school => 0\n",
    "HS-grad => finished high school => 1 \n",
    "Asso-acdm, Asso-voc, Some-college => Asso & not finished UG => 2\n",
    "Bachelors => 3\n",
    "Masters, Doctorate, Prof-school => Post-grad => 4\n",
    "'''\n",
    "train_data['education-num'] = train_data['education-num'].replace([1, 2, 3, 4, 5, 6, 7, 8], 0)\n",
    "train_data['education-num'] = train_data['education-num'].replace(9, 1)\n",
    "train_data['education-num'] = train_data['education-num'].replace([10, 11, 12], 2)\n",
    "train_data['education-num'] = train_data['education-num'].replace(13, 3)\n",
    "train_data['education-num'] = train_data['education-num'].replace([14, 15, 16], 4)\n",
    "\n",
    "train_data = train_data.drop(columns = ['education'])\n",
    "train_data = train_data.rename(columns={'education-num':'education'})\n",
    "\n",
    "train_data['education'].value_counts()"
   ]
  },
  {
   "cell_type": "code",
   "execution_count": 66,
   "metadata": {},
   "outputs": [
    {
     "data": {
      "text/plain": [
       "5     5983\n",
       "1     4099\n",
       "4     4066\n",
       "8     3770\n",
       "3     3650\n",
       "2     3295\n",
       "7     2002\n",
       "10    1597\n",
       "6     1370\n",
       "9      994\n",
       "0      928\n",
       "12     649\n",
       "11     149\n",
       "13       9\n",
       "Name: occupation, dtype: int64"
      ]
     },
     "execution_count": 66,
     "metadata": {},
     "output_type": "execute_result"
    }
   ],
   "source": [
    "# occupation\n",
    "''' \n",
    "Reference:\n",
    "'Tech-support', 'Craft-repair', 'Other-service', 'Sales', 'Exec-managerial', 'Prof-specialty', 'Handlers-cleaners', 'Machine-op-inspct', 'Adm-clerical', 'Farming-fishing', 'Transport-moving', 'Priv-house-serv', 'Protective-serv', 'Armed-Forces'\n",
    "= [0, 1, 2, 3, 4, 5, 6, 7, 8, 9, 10, 11, 12, 13]\n",
    "'''\n",
    "train_data['occupation'] = train_data['occupation'].replace([' Tech-support', ' Craft-repair', ' Other-service', ' Sales', ' Exec-managerial', ' Prof-specialty', ' Handlers-cleaners', ' Machine-op-inspct', ' Adm-clerical', ' Farming-fishing', ' Transport-moving', ' Priv-house-serv', ' Protective-serv', ' Armed-Forces'], range(14))\n",
    "\n",
    "\n",
    "\n",
    "train_data['occupation'].value_counts()\n",
    "\n"
   ]
  },
  {
   "cell_type": "code",
   "execution_count": 67,
   "metadata": {},
   "outputs": [
    {
     "data": {
      "text/plain": [
       "2    13193\n",
       "3     8305\n",
       "1     5068\n",
       "5     3446\n",
       "0     1568\n",
       "4      981\n",
       "Name: relationship, dtype: int64"
      ]
     },
     "execution_count": 67,
     "metadata": {},
     "output_type": "execute_result"
    }
   ],
   "source": [
    "# relationship\n",
    "''' \n",
    "Reference:\n",
    "'Wife', 'Own-child', 'Husband', 'Not-in-family', 'Other-relative', 'Unmarried'\n",
    "= [0, 1, 2, 3, 4, 5]\n",
    "'''\n",
    "train_data['relationship'] = train_data['relationship'].replace([' Wife', ' Own-child', ' Husband', ' Not-in-family', ' Other-relative', ' Unmarried'], range(6))\n",
    "\n",
    "train_data['relationship'].value_counts()"
   ]
  },
  {
   "cell_type": "code",
   "execution_count": 68,
   "metadata": {},
   "outputs": [
    {
     "data": {
      "text/plain": [
       "0    27816\n",
       "4     3124\n",
       "1     1039\n",
       "2      311\n",
       "3      271\n",
       "Name: race, dtype: int64"
      ]
     },
     "execution_count": 68,
     "metadata": {},
     "output_type": "execute_result"
    }
   ],
   "source": [
    "# race\n",
    "''' \n",
    "Reference:\n",
    "'White', 'Asian-Pac-Islander', 'Amer-Indian-Eskimo', 'Other', 'Black'Have capital gain => 1\n",
    "= [0, 1, 2, 3, 4]\n",
    "'''\n",
    "\n",
    "train_data['race'] = train_data['race'].replace([' White', ' Asian-Pac-Islander', ' Amer-Indian-Eskimo', ' Other', ' Black'], range(5))\n",
    "\n",
    "train_data['race'].value_counts()\n"
   ]
  },
  {
   "cell_type": "code",
   "execution_count": 69,
   "metadata": {},
   "outputs": [
    {
     "data": {
      "text/plain": [
       "1    21790\n",
       "0    10771\n",
       "Name: sex, dtype: int64"
      ]
     },
     "execution_count": 69,
     "metadata": {},
     "output_type": "execute_result"
    }
   ],
   "source": [
    "# sex\n",
    "''' \n",
    "Reference:\n",
    "Female, Male\n",
    "= [0, 1]\n",
    "'''\n",
    "\n",
    "train_data['sex'] = train_data['sex'].replace([' Female', ' Male'], range(2))\n",
    "\n",
    "train_data['sex'].value_counts()\n"
   ]
  },
  {
   "cell_type": "code",
   "execution_count": 70,
   "metadata": {},
   "outputs": [
    {
     "data": {
      "text/plain": [
       "0    29849\n",
       "1     2712\n",
       "Name: capital-gain, dtype: int64"
      ]
     },
     "execution_count": 70,
     "metadata": {},
     "output_type": "execute_result"
    }
   ],
   "source": [
    "# capital-gain\n",
    "''' \n",
    "Reference:\n",
    "No capital gain => 0\n",
    "Have capital gain => 1\n",
    "'''\n",
    "#train_data['capital-gain'] = train_data['capital-gain'].astype(int)\n",
    "train_data['capital-gain'] = train_data['capital-gain'].mask(train_data['capital-gain'] == 0, 0)\n",
    "train_data['capital-gain'] = train_data['capital-gain'].mask(train_data['capital-gain'] > 0, 1)\n",
    "\n",
    "train_data['capital-gain'].value_counts()"
   ]
  },
  {
   "cell_type": "code",
   "execution_count": 71,
   "metadata": {},
   "outputs": [
    {
     "data": {
      "text/plain": [
       "0    31042\n",
       "1     1519\n",
       "Name: capital-loss, dtype: int64"
      ]
     },
     "execution_count": 71,
     "metadata": {},
     "output_type": "execute_result"
    }
   ],
   "source": [
    "# capital-loss\n",
    "''' \n",
    "Reference:\n",
    "No capital loss => 0\n",
    "Have capital loss => 1\n",
    "'''\n",
    "train_data['capital-loss'] = train_data['capital-loss'].astype(int)\n",
    "train_data['capital-loss'] = train_data['capital-loss'].mask(train_data['capital-loss'] == 0, 0)\n",
    "train_data['capital-loss'] = train_data['capital-loss'].mask(train_data['capital-loss'] > 0, 1)\n",
    "\n",
    "train_data['capital-loss'].value_counts()\n",
    "\n"
   ]
  },
  {
   "cell_type": "code",
   "execution_count": 72,
   "metadata": {},
   "outputs": [
    {
     "data": {
      "text/plain": [
       "1    20052\n",
       "2     8471\n",
       "0     2928\n",
       "3     1110\n",
       "Name: hours-per-week, dtype: int64"
      ]
     },
     "execution_count": 72,
     "metadata": {},
     "output_type": "execute_result"
    }
   ],
   "source": [
    "# hours-per-week\n",
    "''' \n",
    "Reference:\n",
    "0-20 => 0\n",
    "21-40 => 1\n",
    "41-60 => 2\n",
    "61+ => 3\n",
    "'''\n",
    "train_data['hours-per-week'] = train_data['hours-per-week'].astype(int)\n",
    "train_data['hours-per-week'] = train_data['hours-per-week'].mask(train_data['hours-per-week'] < 21, 0)\n",
    "train_data['hours-per-week'] = train_data['hours-per-week'].mask((train_data['hours-per-week'] >= 21) & (train_data['hours-per-week'] < 41), 1)\n",
    "train_data['hours-per-week'] = train_data['hours-per-week'].mask((train_data['hours-per-week'] >= 41) & (train_data['hours-per-week'] < 61), 2)\n",
    "train_data['hours-per-week'] = train_data['hours-per-week'].mask(train_data['hours-per-week'] >= 61, 3)\n",
    "\n",
    "train_data['hours-per-week'].value_counts()\n"
   ]
  },
  {
   "cell_type": "code",
   "execution_count": 73,
   "metadata": {},
   "outputs": [
    {
     "data": {
      "text/plain": [
       "0    29753\n",
       "1     2808\n",
       "Name: native-country, dtype: int64"
      ]
     },
     "execution_count": 73,
     "metadata": {},
     "output_type": "execute_result"
    }
   ],
   "source": [
    "# native-country\n",
    "''' \n",
    "Reference:\n",
    "United-State => 0\n",
    "Any other non-US => 1\n",
    "'''\n",
    "train_data['native-country'] = train_data['native-country'].mask(train_data['native-country']!=' United-States', 1)\n",
    "train_data['native-country'] = train_data['native-country'].mask(train_data['native-country']==' United-States', 0)\n",
    "\n",
    "train_data['native-country'].value_counts()"
   ]
  },
  {
   "cell_type": "code",
   "execution_count": 74,
   "metadata": {},
   "outputs": [
    {
     "data": {
      "text/plain": [
       "1    14999\n",
       "0    10683\n",
       "2     6879\n",
       "Name: marital-status, dtype: int64"
      ]
     },
     "execution_count": 74,
     "metadata": {},
     "output_type": "execute_result"
    }
   ],
   "source": [
    "# marital-status\n",
    "''' \n",
    "Reference:\n",
    "Never-married => 0\n",
    "Married AF or Civ => 1\n",
    "Married-spouse-absent, divorced, seperated, widowed => Broken relationship => 2\n",
    "'''\n",
    "train_data['marital-status'] = train_data['marital-status'].replace(' Never-married', 0)\n",
    "train_data['marital-status'] = train_data['marital-status'].replace([' Married-AF-spouse', ' Married-civ-spouse'], 1)\n",
    "train_data['marital-status'] = train_data['marital-status'].replace([' Married-spouse-absent', ' Divorced', ' Separated', ' Widowed'], 2)\n",
    "\n",
    "train_data['marital-status'].value_counts()\n",
    "\n"
   ]
  },
  {
   "cell_type": "code",
   "execution_count": 75,
   "metadata": {},
   "outputs": [
    {
     "data": {
      "text/plain": [
       "0    24720\n",
       "1     7841\n",
       "Name: income, dtype: int64"
      ]
     },
     "execution_count": 75,
     "metadata": {},
     "output_type": "execute_result"
    }
   ],
   "source": [
    "# income\n",
    "''' \n",
    "Reference:\n",
    "<=50k => 0\n",
    ">50k => 1\n",
    "'''\n",
    "\n",
    "train_data['income'] = train_data['income'].replace(' <=50K', 0)\n",
    "train_data['income'] = train_data['income'].replace(' >50K', 1)\n",
    "\n",
    "\n",
    "train_data['income'].value_counts()\n"
   ]
  },
  {
   "cell_type": "code",
   "execution_count": 76,
   "metadata": {},
   "outputs": [
    {
     "data": {
      "text/plain": [
       "<AxesSubplot:>"
      ]
     },
     "execution_count": 76,
     "metadata": {},
     "output_type": "execute_result"
    },
    {
     "data": {
      "image/png": "[encoded data removed]",
      "text/plain": [
       "<Figure size 432x288 with 2 Axes>"
      ]
     },
     "metadata": {
      "needs_background": "light"
     },
     "output_type": "display_data"
    }
   ],
   "source": [
    "sns.heatmap(train_data.corr())"
   ]
  },
  {
   "cell_type": "code",
   "execution_count": 78,
   "metadata": {},
   "outputs": [
    {
     "data": {
      "text/html": [
       "<div>\n",
       "<style scoped>\n",
       "    .dataframe tbody tr th:only-of-type {\n",
       "        vertical-align: middle;\n",
       "    }\n",
       "\n",
       "    .dataframe tbody tr th {\n",
       "        vertical-align: top;\n",
       "    }\n",
       "\n",
       "    .dataframe thead th {\n",
       "        text-align: right;\n",
       "    }\n",
       "</style>\n",
       "<table border=\"1\" class=\"dataframe\">\n",
       "  <thead>\n",
       "    <tr style=\"text-align: right;\">\n",
       "      <th></th>\n",
       "      <th>age</th>\n",
       "      <th>workclass</th>\n",
       "      <th>fnlwgt</th>\n",
       "      <th>education</th>\n",
       "      <th>marital-status</th>\n",
       "      <th>occupation</th>\n",
       "      <th>relationship</th>\n",
       "      <th>race</th>\n",
       "      <th>sex</th>\n",
       "      <th>capital-gain</th>\n",
       "      <th>capital-loss</th>\n",
       "      <th>hours-per-week</th>\n",
       "      <th>native-country</th>\n",
       "      <th>income</th>\n",
       "    </tr>\n",
       "  </thead>\n",
       "  <tbody>\n",
       "    <tr>\n",
       "      <th>0</th>\n",
       "      <td>2</td>\n",
       "      <td>5</td>\n",
       "      <td>77516</td>\n",
       "      <td>3</td>\n",
       "      <td>0</td>\n",
       "      <td>8</td>\n",
       "      <td>3</td>\n",
       "      <td>0</td>\n",
       "      <td>1</td>\n",
       "      <td>1</td>\n",
       "      <td>0</td>\n",
       "      <td>1</td>\n",
       "      <td>0</td>\n",
       "      <td>0</td>\n",
       "    </tr>\n",
       "    <tr>\n",
       "      <th>1</th>\n",
       "      <td>3</td>\n",
       "      <td>3</td>\n",
       "      <td>83311</td>\n",
       "      <td>3</td>\n",
       "      <td>1</td>\n",
       "      <td>4</td>\n",
       "      <td>2</td>\n",
       "      <td>0</td>\n",
       "      <td>1</td>\n",
       "      <td>0</td>\n",
       "      <td>0</td>\n",
       "      <td>0</td>\n",
       "      <td>0</td>\n",
       "      <td>0</td>\n",
       "    </tr>\n",
       "    <tr>\n",
       "      <th>2</th>\n",
       "      <td>2</td>\n",
       "      <td>7</td>\n",
       "      <td>215646</td>\n",
       "      <td>1</td>\n",
       "      <td>2</td>\n",
       "      <td>6</td>\n",
       "      <td>3</td>\n",
       "      <td>0</td>\n",
       "      <td>1</td>\n",
       "      <td>0</td>\n",
       "      <td>0</td>\n",
       "      <td>1</td>\n",
       "      <td>0</td>\n",
       "      <td>0</td>\n",
       "    </tr>\n",
       "    <tr>\n",
       "      <th>3</th>\n",
       "      <td>4</td>\n",
       "      <td>7</td>\n",
       "      <td>234721</td>\n",
       "      <td>0</td>\n",
       "      <td>1</td>\n",
       "      <td>6</td>\n",
       "      <td>2</td>\n",
       "      <td>4</td>\n",
       "      <td>1</td>\n",
       "      <td>0</td>\n",
       "      <td>0</td>\n",
       "      <td>1</td>\n",
       "      <td>0</td>\n",
       "      <td>0</td>\n",
       "    </tr>\n",
       "    <tr>\n",
       "      <th>4</th>\n",
       "      <td>1</td>\n",
       "      <td>7</td>\n",
       "      <td>338409</td>\n",
       "      <td>3</td>\n",
       "      <td>1</td>\n",
       "      <td>5</td>\n",
       "      <td>0</td>\n",
       "      <td>4</td>\n",
       "      <td>0</td>\n",
       "      <td>0</td>\n",
       "      <td>0</td>\n",
       "      <td>1</td>\n",
       "      <td>1</td>\n",
       "      <td>0</td>\n",
       "    </tr>\n",
       "    <tr>\n",
       "      <th>...</th>\n",
       "      <td>...</td>\n",
       "      <td>...</td>\n",
       "      <td>...</td>\n",
       "      <td>...</td>\n",
       "      <td>...</td>\n",
       "      <td>...</td>\n",
       "      <td>...</td>\n",
       "      <td>...</td>\n",
       "      <td>...</td>\n",
       "      <td>...</td>\n",
       "      <td>...</td>\n",
       "      <td>...</td>\n",
       "      <td>...</td>\n",
       "      <td>...</td>\n",
       "    </tr>\n",
       "    <tr>\n",
       "      <th>32556</th>\n",
       "      <td>1</td>\n",
       "      <td>7</td>\n",
       "      <td>257302</td>\n",
       "      <td>2</td>\n",
       "      <td>1</td>\n",
       "      <td>0</td>\n",
       "      <td>0</td>\n",
       "      <td>0</td>\n",
       "      <td>0</td>\n",
       "      <td>0</td>\n",
       "      <td>0</td>\n",
       "      <td>1</td>\n",
       "      <td>0</td>\n",
       "      <td>0</td>\n",
       "    </tr>\n",
       "    <tr>\n",
       "      <th>32557</th>\n",
       "      <td>2</td>\n",
       "      <td>7</td>\n",
       "      <td>154374</td>\n",
       "      <td>1</td>\n",
       "      <td>1</td>\n",
       "      <td>7</td>\n",
       "      <td>2</td>\n",
       "      <td>0</td>\n",
       "      <td>1</td>\n",
       "      <td>0</td>\n",
       "      <td>0</td>\n",
       "      <td>1</td>\n",
       "      <td>0</td>\n",
       "      <td>1</td>\n",
       "    </tr>\n",
       "    <tr>\n",
       "      <th>32558</th>\n",
       "      <td>4</td>\n",
       "      <td>7</td>\n",
       "      <td>151910</td>\n",
       "      <td>1</td>\n",
       "      <td>2</td>\n",
       "      <td>8</td>\n",
       "      <td>5</td>\n",
       "      <td>0</td>\n",
       "      <td>0</td>\n",
       "      <td>0</td>\n",
       "      <td>0</td>\n",
       "      <td>1</td>\n",
       "      <td>0</td>\n",
       "      <td>0</td>\n",
       "    </tr>\n",
       "    <tr>\n",
       "      <th>32559</th>\n",
       "      <td>1</td>\n",
       "      <td>7</td>\n",
       "      <td>201490</td>\n",
       "      <td>1</td>\n",
       "      <td>0</td>\n",
       "      <td>8</td>\n",
       "      <td>1</td>\n",
       "      <td>0</td>\n",
       "      <td>1</td>\n",
       "      <td>0</td>\n",
       "      <td>0</td>\n",
       "      <td>0</td>\n",
       "      <td>0</td>\n",
       "      <td>0</td>\n",
       "    </tr>\n",
       "    <tr>\n",
       "      <th>32560</th>\n",
       "      <td>4</td>\n",
       "      <td>2</td>\n",
       "      <td>287927</td>\n",
       "      <td>1</td>\n",
       "      <td>1</td>\n",
       "      <td>4</td>\n",
       "      <td>0</td>\n",
       "      <td>0</td>\n",
       "      <td>0</td>\n",
       "      <td>1</td>\n",
       "      <td>0</td>\n",
       "      <td>1</td>\n",
       "      <td>0</td>\n",
       "      <td>1</td>\n",
       "    </tr>\n",
       "  </tbody>\n",
       "</table>\n",
       "<p>32561 rows × 14 columns</p>\n",
       "</div>"
      ],
      "text/plain": [
       "       age  workclass  fnlwgt  education  marital-status  occupation  \\\n",
       "0        2          5   77516          3               0           8   \n",
       "1        3          3   83311          3               1           4   \n",
       "2        2          7  215646          1               2           6   \n",
       "3        4          7  234721          0               1           6   \n",
       "4        1          7  338409          3               1           5   \n",
       "...    ...        ...     ...        ...             ...         ...   \n",
       "32556    1          7  257302          2               1           0   \n",
       "32557    2          7  154374          1               1           7   \n",
       "32558    4          7  151910          1               2           8   \n",
       "32559    1          7  201490          1               0           8   \n",
       "32560    4          2  287927          1               1           4   \n",
       "\n",
       "       relationship  race  sex  capital-gain  capital-loss  hours-per-week  \\\n",
       "0                 3     0    1             1             0               1   \n",
       "1                 2     0    1             0             0               0   \n",
       "2                 3     0    1             0             0               1   \n",
       "3                 2     4    1             0             0               1   \n",
       "4                 0     4    0             0             0               1   \n",
       "...             ...   ...  ...           ...           ...             ...   \n",
       "32556             0     0    0             0             0               1   \n",
       "32557             2     0    1             0             0               1   \n",
       "32558             5     0    0             0             0               1   \n",
       "32559             1     0    1             0             0               0   \n",
       "32560             0     0    0             1             0               1   \n",
       "\n",
       "      native-country  income  \n",
       "0                  0       0  \n",
       "1                  0       0  \n",
       "2                  0       0  \n",
       "3                  0       0  \n",
       "4                  1       0  \n",
       "...              ...     ...  \n",
       "32556              0       0  \n",
       "32557              0       1  \n",
       "32558              0       0  \n",
       "32559              0       0  \n",
       "32560              0       1  \n",
       "\n",
       "[32561 rows x 14 columns]"
      ]
     },
     "execution_count": 78,
     "metadata": {},
     "output_type": "execute_result"
    }
   ],
   "source": [
    "train_data"
   ]
  },
  {
   "cell_type": "code",
   "execution_count": 79,
   "metadata": {},
   "outputs": [],
   "source": [
    "train_data.to_csv('clean_train_data.csv', index=False)"
   ]
  },
  {
   "cell_type": "code",
   "execution_count": null,
   "metadata": {},
   "outputs": [],
   "source": []
  }
 ],
 "metadata": {
  "kernelspec": {
   "display_name": "Python 3",
   "language": "python",
   "name": "python3"
  },
  "language_info": {
   "codemirror_mode": {
    "name": "ipython",
    "version": 3
   },
   "file_extension": ".py",
   "mimetype": "text/x-python",
   "name": "python",
   "nbconvert_exporter": "python",
   "pygments_lexer": "ipython3",
   "version": "3.8.5"
  }
 },
 "nbformat": 4,
 "nbformat_minor": 4
}
